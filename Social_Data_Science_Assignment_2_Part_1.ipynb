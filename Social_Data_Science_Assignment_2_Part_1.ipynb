{
  "nbformat": 4,
  "nbformat_minor": 0,
  "metadata": {
    "colab": {
      "name": "Assignment-1-part1.ipynb",
      "provenance": [],
      "collapsed_sections": []
    },
    "kernelspec": {
      "name": "python3",
      "display_name": "Python 3"
    }
  },
  "cells": [
    {
      "cell_type": "markdown",
      "metadata": {
        "id": "rONcuvBKrSeZ"
      },
      "source": [
        "\n"
      ]
    },
    {
      "cell_type": "markdown",
      "metadata": {
        "id": "xUKzQ_SNrr7Y"
      },
      "source": [
        "# Assignment instruction\n",
        "\n",
        "In this part of the assignment, you are asked to answer the following things\n",
        "\n",
        "- Python basics\n",
        "- NumPy (especially arrays)\n",
        "\n",
        "Answer all questions. This assignment comprises 40 percent of the assignment grade.\n"
      ]
    },
    {
      "cell_type": "markdown",
      "metadata": {
        "id": "jrumXQu0IQZR"
      },
      "source": [
        "# Python Basics (15 percent)"
      ]
    },
    {
      "cell_type": "markdown",
      "metadata": {
        "id": "qzxjBdv3SmsC"
      },
      "source": [
        "(1) How many elements in the list?"
      ]
    },
    {
      "cell_type": "code",
      "metadata": {
        "id": "ZNMghuS1SCK8"
      },
      "source": [
        "int_list = [1102,  312, 1031,  947,    6,  940,  744,   38, 1659, 1982, 1510,\n",
        "        152, 1964,  522,  665,   19,  218,  453, 1946, 1261, 1455, 1915,\n",
        "       1152, 1182,  847,   61, 1287,  908, 1155,  768, 1743, 1002, 1522,\n",
        "        220, 1495, 1923,  689,  397, 1149, 1035,  974,  985, 1759, 1442,\n",
        "       1441, 1278, 1672,  605,  481,  377, 1207,  763,  691, 1953, 1214,\n",
        "        834, 1841, 1905, 1585, 1834, 1716, 1610,  430, 1358,   95,   42,\n",
        "       1584,  303,  859,  474,  210,   46, 1492, 1588, 1828, 1007, 1047,\n",
        "        325,  476,  666,  762, 1866, 1241, 1343,  123, 1715, 1396,  138,\n",
        "       1113, 1091, 1469, 1147, 1437, 1794,  482, 1213,  201,  165,  452,\n",
        "       1095, 1378,  750, 1857, 1026,  872,  796,  308,  656, 1450,  376,\n",
        "       1503,  409, 1737,   66,  802, 1097,  772,  969,  258, 1269,  761,\n",
        "       1474, 1985,  478, 1588,  163,  815,  220, 1956, 1526, 1394, 1049,\n",
        "        494,  145, 1842, 1344,  851, 1964, 1578,  548, 1336,  829, 1673,\n",
        "        464,  803, 1967, 1152, 1218, 1769, 1078, 1765, 1883, 1896, 1125,\n",
        "        857, 1623,  390, 1545,  574, 1226, 1971, 1995,  608, 1137, 1052,\n",
        "       1785,  782,  705, 1760, 1441, 1537, 1055,  350,  144, 1679, 1998,\n",
        "        929, 1510,  289, 1044, 1353,   28, 1431,  199,  221, 1086,  909,\n",
        "        701,  699,  772, 1323,  807, 1029,  845, 1591,  222,  453, 1166,\n",
        "        314,  982,  119, 1591, 1223, 1385,  579,  151, 1244,  113,  821,\n",
        "        575,  398, 1357, 1410,  680, 1741,  322, 1685, 1457, 1425,  160,\n",
        "       1158, 1377,  148, 1828, 1155, 1942, 1640,  716, 1599, 1745, 1866,\n",
        "       1642,  212,  598, 1765,  263,  477,   93, 1724,   71, 1645, 1386,\n",
        "       1791,  720,  331,  150, 1763, 1420, 1980, 1308,  464, 1180,  371,\n",
        "       1920,  972,  274,  849,  959,  847, 1225,  798, 1749,  615, 1466,\n",
        "       1523, 1385, 1389, 1243, 1148,  744, 1749,  495, 1520,  225,  682,\n",
        "        398,   80,  199,  848, 1353, 1978,  605,  860,   93, 1423,  802,\n",
        "        867,  848,  672,  802,  944, 1555,  106,  813, 1872,  675, 1469,\n",
        "       1918,  972,  630,  296,  910,   85,  422,  678, 1437, 1929, 1982,\n",
        "       1103, 1255, 1459, 1250,  125,  639,  637, 1565,  563,  329, 1654,\n",
        "        405,  862,  683,  545,  172,  321,  479,  690,  193, 1053, 1103,\n",
        "        567, 1762, 1615, 1271, 1807,  741, 1911, 1184, 1149, 1433,  985,\n",
        "       1749, 1737,  450, 1054, 1622,  709, 1155, 1917, 1626,  550, 1377,\n",
        "        459,  892, 1236,  871, 1880, 1131, 1463,   31,  223, 1921,   54,\n",
        "       1898, 1864, 1261, 1931,  342,  488, 1362, 1947,  474, 1405,  601,\n",
        "       1774,  794,  558, 1872,  801,  747,   71,  702,  403, 1787]"
      ],
      "execution_count": null,
      "outputs": []
    },
    {
      "cell_type": "code",
      "metadata": {
        "id": "TGy7zCfRS48K"
      },
      "source": [
        ""
      ],
      "execution_count": null,
      "outputs": []
    },
    {
      "cell_type": "markdown",
      "metadata": {
        "id": "TqooWbBvJbM8"
      },
      "source": [
        "(2) Split the following string by word and create a list"
      ]
    },
    {
      "cell_type": "code",
      "metadata": {
        "id": "3wgqqHryJa1U"
      },
      "source": [
        "string = \"A driverless truck is ready to start earning a living\""
      ],
      "execution_count": null,
      "outputs": []
    },
    {
      "cell_type": "markdown",
      "metadata": {
        "id": "gjDIE3OGISsK"
      },
      "source": [
        "(3) For the python list below, run a loop where the number will be printed out when it is greater than 15. The output should look like:\n",
        "```\n",
        "17\n",
        "18\n",
        "17\n",
        "18\n",
        "18\n",
        "18\n",
        "16\n",
        "17\n",
        "16\n",
        "```"
      ]
    },
    {
      "cell_type": "code",
      "metadata": {
        "id": "WsYIjcA9InK-"
      },
      "source": [
        "list_x = [ 0,  4, 17, 15, 10, 13,  7, 15, 13, 18,  3,  8, 17,  3,  4, 18, 15,\n",
        "        0, 13, 10, 18, 18,  9, 11,  7, 16,  8,  8, 17, 10,  1,  1, 13,  7,\n",
        "       15, 11,  2,  0, 16, 15,  0,  4,  2,  0,  4, 15, 14,  7, 14,  1]"
      ],
      "execution_count": null,
      "outputs": []
    },
    {
      "cell_type": "code",
      "metadata": {
        "id": "5TzkazilI0wr"
      },
      "source": [
        ""
      ],
      "execution_count": null,
      "outputs": []
    },
    {
      "cell_type": "markdown",
      "metadata": {
        "id": "vVuyDOQTS6R7"
      },
      "source": [
        "# NumPy (25 percent)"
      ]
    },
    {
      "cell_type": "code",
      "metadata": {
        "id": "DYfc9MrpxClU"
      },
      "source": [
        "import numpy as np"
      ],
      "execution_count": null,
      "outputs": []
    },
    {
      "cell_type": "markdown",
      "metadata": {
        "id": "owVO2EN0S_9P"
      },
      "source": [
        "## Array construction\n",
        "\n",
        "Construct following NumPy arrays (without using `array()` method)\n",
        "\n",
        "- one dimensional arrays:\n",
        "    1. a sequece of integers from `-10` to `10`\n",
        "    2. 10 random numbers drawn from uniform distribution \n",
        "    3. a sequence of integers from `23` to `0` (some arithmetic operations would be necessary)\n",
        "- two dimensional arrays:\n",
        "    1. 5 x 4 random array drawn from normal distribution\n",
        "    2. 2 x 7 array of zeros\n",
        "    3. 3 x 3 array of 7s, like this (some arithmetic operations would be necessary): \n",
        "      ```\n",
        "      [[7. 7. 7.]\n",
        "       [7. 7. 7.]\n",
        "       [7. 7. 7.]]\n",
        "      ```\n"
      ]
    },
    {
      "cell_type": "code",
      "metadata": {
        "id": "Ds85CE7mS_bg"
      },
      "source": [
        ""
      ],
      "execution_count": null,
      "outputs": []
    },
    {
      "cell_type": "markdown",
      "metadata": {
        "id": "lYpoMlKvWY66"
      },
      "source": [
        "## Array indexing and selection"
      ]
    },
    {
      "cell_type": "markdown",
      "metadata": {
        "id": "PtztogoEWih1"
      },
      "source": [
        "### One dimension\n"
      ]
    },
    {
      "cell_type": "markdown",
      "metadata": {
        "id": "64nrxJyqYvfR"
      },
      "source": [
        "\n",
        "#### From the array below, crate a replicating matrix"
      ]
    },
    {
      "cell_type": "code",
      "metadata": {
        "id": "zwGzQQjVWkPg"
      },
      "source": [
        "arr_1d = np.arange(1, 16)"
      ],
      "execution_count": null,
      "outputs": []
    },
    {
      "cell_type": "markdown",
      "metadata": {
        "id": "NuJKTmbPW-2t"
      },
      "source": [
        "(1) `array([1, 2, 3, 4, 5, 6, 7])`"
      ]
    },
    {
      "cell_type": "code",
      "metadata": {
        "id": "f-L9PKBwXgS1"
      },
      "source": [
        ""
      ],
      "execution_count": null,
      "outputs": []
    },
    {
      "cell_type": "markdown",
      "metadata": {
        "id": "UwH0r0YIXVuP"
      },
      "source": [
        "(2) `array([13, 14, 15])`"
      ]
    },
    {
      "cell_type": "code",
      "metadata": {
        "id": "EYqAMZQ5XbWv"
      },
      "source": [
        ""
      ],
      "execution_count": null,
      "outputs": []
    },
    {
      "cell_type": "markdown",
      "metadata": {
        "id": "q2UfO2GBXr2u"
      },
      "source": [
        "#### Do the following \n",
        "\n",
        "1. Set the seed to `208320`\n",
        "2. Construct an array with 20 random numbers from normal distribution\n",
        "3. Select positive elements from the array"
      ]
    },
    {
      "cell_type": "code",
      "metadata": {
        "id": "fKJ9sXkZhlKK"
      },
      "source": [
        ""
      ],
      "execution_count": null,
      "outputs": []
    },
    {
      "cell_type": "markdown",
      "metadata": {
        "id": "geTubbJihl2Y"
      },
      "source": [
        "### Two dimension"
      ]
    },
    {
      "cell_type": "markdown",
      "metadata": {
        "id": "js7IYXovhsaQ"
      },
      "source": [
        "\n",
        "#### From the array below, crate a replicating matrix"
      ]
    },
    {
      "cell_type": "code",
      "metadata": {
        "id": "usMhlb8MhtlY"
      },
      "source": [
        "arr_2d = np.arange(31, 61).reshape(5, 6)"
      ],
      "execution_count": null,
      "outputs": []
    },
    {
      "cell_type": "markdown",
      "metadata": {
        "id": "F5wcYHXriHTF"
      },
      "source": [
        "(1) \n",
        "```\n",
        "array([[31, 32, 33, 34, 35, 36],\n",
        "       [37, 38, 39, 40, 41, 42],\n",
        "       [43, 44, 45, 46, 47, 48]])\n",
        "```"
      ]
    },
    {
      "cell_type": "code",
      "metadata": {
        "id": "mUQ1ZqoknwaP"
      },
      "source": [
        ""
      ],
      "execution_count": null,
      "outputs": []
    },
    {
      "cell_type": "markdown",
      "metadata": {
        "id": "SRYQCj71iOnz"
      },
      "source": [
        "(2) \n",
        "```\n",
        "array([[39, 40, 41],\n",
        "       [45, 46, 47],\n",
        "       [51, 52, 53]])\n",
        "```"
      ]
    },
    {
      "cell_type": "code",
      "metadata": {
        "id": "WpB90zkZh-T8"
      },
      "source": [
        ""
      ],
      "execution_count": null,
      "outputs": []
    },
    {
      "cell_type": "markdown",
      "metadata": {
        "id": "XJ5xfKcjigLE"
      },
      "source": [
        "(3)\n",
        "```\n",
        "array([[43, 47],\n",
        "      [55, 59]])\n",
        "```"
      ]
    },
    {
      "cell_type": "code",
      "metadata": {
        "id": "-usZD8AmnxPI"
      },
      "source": [
        ""
      ],
      "execution_count": null,
      "outputs": []
    },
    {
      "cell_type": "markdown",
      "metadata": {
        "id": "gFT0TgnOi1r-"
      },
      "source": [
        "## Array operations\n",
        "\n",
        "For the two dimensional array below, carry out the following operations"
      ]
    },
    {
      "cell_type": "code",
      "metadata": {
        "id": "Bb2sr1S6jDtG"
      },
      "source": [
        "arr_op = np.array([[63, 14, 95, 12, 37, 97, 51],\n",
        "                  [29,  4, 69, 13, 74, 74, 32],\n",
        "                  [14, 63, 83, 52, 16, 86, 78],\n",
        "                  [75, 87,  2,  8, 83,  8, 32],\n",
        "                  [99,  1, 66, 12, 36, 18, 76],\n",
        "                  [45, 81, 23, 54, 38, 26, 30],\n",
        "                  [67, 58, 79, 31, 52, 19, 76],\n",
        "                  [82, 28, 34, 66, 67, 45, 32]])"
      ],
      "execution_count": null,
      "outputs": []
    },
    {
      "cell_type": "markdown",
      "metadata": {
        "id": "NxxhIZbcj3_a"
      },
      "source": [
        "(1) calculate the sum of the entire array"
      ]
    },
    {
      "cell_type": "code",
      "metadata": {
        "id": "40eUPwabkC8r"
      },
      "source": [
        ""
      ],
      "execution_count": null,
      "outputs": []
    },
    {
      "cell_type": "markdown",
      "metadata": {
        "id": "mNmER7DAkAkZ"
      },
      "source": [
        "(2) calculate the mean of each row"
      ]
    },
    {
      "cell_type": "code",
      "metadata": {
        "id": "fz58tVIUjeAZ"
      },
      "source": [
        ""
      ],
      "execution_count": null,
      "outputs": []
    },
    {
      "cell_type": "markdown",
      "metadata": {
        "id": "b-tag0RikJan"
      },
      "source": [
        "(3) calculate the standard deviaiton of each column"
      ]
    },
    {
      "cell_type": "code",
      "metadata": {
        "id": "X6dPnbKckRNk"
      },
      "source": [
        ""
      ],
      "execution_count": null,
      "outputs": []
    }
  ]
}